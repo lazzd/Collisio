{
 "cells": [
  {
   "cell_type": "code",
   "execution_count": 1,
   "metadata": {},
   "outputs": [],
   "source": [
    "import os\n",
    "import json"
   ]
  },
  {
   "cell_type": "code",
   "execution_count": 2,
   "metadata": {},
   "outputs": [],
   "source": [
    "PATH_SAVE = '../data_annotation'\n",
    "\n",
    "DATASET = 'coco'"
   ]
  },
  {
   "cell_type": "code",
   "execution_count": 3,
   "metadata": {},
   "outputs": [],
   "source": [
    "if DATASET == 'flickr30k':\n",
    "    # flickr30k\n",
    "    PATH_FOLDER_DATASET = '/home/lazzaro/data/datasets/flickr30k_images'\n",
    "    PATH_FOLDER_IMGS = 'flickr30k-images'\n",
    "if DATASET == 'coco':\n",
    "    # coco (server)\n",
    "    PATH_FOLDER_DATASET = '/data/datasets/coco'\n",
    "    PATH_FOLDER_IMGS = 'val2014'\n",
    "\n",
    "complete_path_imgs = os.path.join(PATH_FOLDER_DATASET, PATH_FOLDER_IMGS)"
   ]
  },
  {
   "cell_type": "code",
   "execution_count": 4,
   "metadata": {},
   "outputs": [],
   "source": [
    "all_images = [f for f in os.listdir(complete_path_imgs) if os.path.isfile(os.path.join(complete_path_imgs, f)) and f.endswith('.jpg')]\n",
    "\n",
    "all_images_to_save = []\n",
    "for image in all_images:\n",
    "    path_img = os.path.join(PATH_FOLDER_IMGS, image)\n",
    "    all_images_to_save.append({\"image\": path_img})"
   ]
  },
  {
   "cell_type": "code",
   "execution_count": 5,
   "metadata": {},
   "outputs": [],
   "source": [
    "# save\n",
    "path_to_save = os.path.join(PATH_SAVE, f\"img_list_complete_{DATASET}.json\")\n",
    "\n",
    "with open(path_to_save, 'w') as json_file:\n",
    "    json.dump(all_images_to_save, json_file, indent=4)"
   ]
  }
 ],
 "metadata": {
  "kernelspec": {
   "display_name": "collisio",
   "language": "python",
   "name": "python3"
  },
  "language_info": {
   "codemirror_mode": {
    "name": "ipython",
    "version": 3
   },
   "file_extension": ".py",
   "mimetype": "text/x-python",
   "name": "python",
   "nbconvert_exporter": "python",
   "pygments_lexer": "ipython3",
   "version": "3.9.19"
  }
 },
 "nbformat": 4,
 "nbformat_minor": 2
}
