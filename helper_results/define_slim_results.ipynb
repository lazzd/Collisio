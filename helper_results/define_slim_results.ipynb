{
 "cells": [
  {
   "cell_type": "code",
   "execution_count": 1,
   "metadata": {},
   "outputs": [],
   "source": [
    "from pathlib import Path\n",
    "\n",
    "import shutil"
   ]
  },
  {
   "cell_type": "code",
   "execution_count": 2,
   "metadata": {},
   "outputs": [],
   "source": [
    "# ----------\n",
    "\n",
    "def verify_path(path):\n",
    "    return Path(path).exists()\n",
    "\n",
    "def verify_and_create_path(path):\n",
    "    path = Path(path)\n",
    "    if not path.exists():\n",
    "        path.mkdir(parents=True, exist_ok=True)\n",
    "\n",
    "# ----------"
   ]
  },
  {
   "cell_type": "code",
   "execution_count": 3,
   "metadata": {},
   "outputs": [],
   "source": [
    "EXP_PATH = '../experiments'\n",
    "\n",
    "SLIM_EXP_PATH = '../slim_experiments'\n",
    "verify_and_create_path(SLIM_EXP_PATH)"
   ]
  },
  {
   "cell_type": "code",
   "execution_count": null,
   "metadata": {},
   "outputs": [],
   "source": [
    "models = [f for f in Path(EXP_PATH).iterdir() if f.is_dir()]\n",
    "print(models)"
   ]
  },
  {
   "cell_type": "code",
   "execution_count": null,
   "metadata": {},
   "outputs": [],
   "source": [
    "for model in models:\n",
    "    path_valuations = model / \"valuations\"\n",
    "\n",
    "    actions = [f.name for f in path_valuations.iterdir() if f.is_dir()]\n",
    "\n",
    "    for action in actions:\n",
    "        path_action = path_valuations / action\n",
    "\n",
    "        all_subfolders = [f for f in path_action.rglob(\"*\") if f.is_dir()]\n",
    "        if all_subfolders:\n",
    "            max_depth = max(len(f.relative_to(path_action).parts) for f in all_subfolders)\n",
    "\n",
    "            if action == \"clean_accuracy\":\n",
    "                target_depth = max_depth\n",
    "            elif action == \"adversarial\":\n",
    "                target_depth = max_depth - 1\n",
    "            else:\n",
    "                continue\n",
    "\n",
    "            filtered_folders = [f for f in all_subfolders if len(f.relative_to(path_action).parts) == target_depth]\n",
    "        else:\n",
    "            filtered_folders = []\n",
    "\n",
    "        for filtered_folder in filtered_folders:\n",
    "            filtered_folder_path = Path(filtered_folder)\n",
    "\n",
    "            relative_path = filtered_folder_path.relative_to(EXP_PATH)\n",
    "\n",
    "            new_complete_path = Path(SLIM_EXP_PATH) / relative_path\n",
    "\n",
    "            if not verify_path(new_complete_path):\n",
    "                verify_and_create_path(new_complete_path)\n",
    "\n",
    "                for json_file in filtered_folder_path.rglob(\"*.json\"):\n",
    "                    dest_file = new_complete_path / json_file.name\n",
    "                    shutil.copy(json_file, dest_file)\n",
    "\n",
    "                    print(f\"Copied {json_file} -> {dest_file}\")"
   ]
  },
  {
   "cell_type": "code",
   "execution_count": null,
   "metadata": {},
   "outputs": [],
   "source": []
  }
 ],
 "metadata": {
  "kernelspec": {
   "display_name": "collisio",
   "language": "python",
   "name": "python3"
  },
  "language_info": {
   "codemirror_mode": {
    "name": "ipython",
    "version": 3
   },
   "file_extension": ".py",
   "mimetype": "text/x-python",
   "name": "python",
   "nbconvert_exporter": "python",
   "pygments_lexer": "ipython3",
   "version": "3.9.19"
  }
 },
 "nbformat": 4,
 "nbformat_minor": 2
}
